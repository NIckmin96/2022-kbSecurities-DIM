{
 "cells": [
  {
   "cell_type": "code",
   "execution_count": 1,
   "metadata": {},
   "outputs": [],
   "source": [
    "#pip install firebase_admin"
   ]
  },
  {
   "cell_type": "code",
   "execution_count": 1,
   "metadata": {},
   "outputs": [],
   "source": [
    "import firebase_admin\n",
    "import datetime\n",
    "\n",
    "from firebase_admin import credentials\n",
    "from firebase_admin import db\n",
    "\n",
    "from dateutil.relativedelta import relativedelta"
   ]
  },
  {
   "cell_type": "code",
   "execution_count": 2,
   "metadata": {},
   "outputs": [
    {
     "data": {
      "text/plain": [
       "<firebase_admin.App at 0x15ef2b7a950>"
      ]
     },
     "execution_count": 2,
     "metadata": {},
     "output_type": "execute_result"
    }
   ],
   "source": [
    "#Firebase database 인증 및 앱 초기화\n",
    "cred = credentials.Certificate('kb-app-23eb5-firebase-adminsdk-72lxa-1fddf52ea4.json')\n",
    "firebase_admin.initialize_app(cred,{\n",
    "    'databaseURL' : 'https://kb-app-23eb5-default-rtdb.firebaseio.com/'\n",
    "})"
   ]
  },
  {
   "cell_type": "code",
   "execution_count": 3,
   "metadata": {},
   "outputs": [
    {
     "data": {
      "text/plain": [
       "'20220327'"
      ]
     },
     "metadata": {},
     "output_type": "display_data"
    }
   ],
   "source": [
    "today_default = datetime.date.today()\n",
    "yesterday = today_default - datetime.timedelta(days=1)\n",
    "tomorrow = today_default + datetime.timedelta(days=1)\n",
    "\n",
    "yesterday = str(yesterday).replace(\"-\",'')\n",
    "\n",
    "today = str(today_default).replace(\"-\",'')\n",
    "display(today)\n",
    "\n",
    "tomorrow = str(tomorrow).replace(\"-\",'')"
   ]
  },
  {
   "cell_type": "code",
   "execution_count": 7,
   "metadata": {},
   "outputs": [],
   "source": [
    "ref = db.reference()\n",
    "\n",
    "overall_ref = ref.child('overall')\n",
    "overall_ref.set({\n",
    "    yesterday : '돌다리도 두드려 보고 건너라',\n",
    "    today : '물에 빠진 사람 건져줬더니 보따리 내놓으라 한다',\n",
    "    tomorrow : '백지장도 맞들면 낫다'   \n",
    "})\n",
    "\n",
    "todaystock_ref = ref.child('todaystock')\n",
    "todaystock_ref.set({\n",
    "    yesterday:\n",
    "        {'good': '현대자동차',\n",
    "         'bad' : '카카오'},\n",
    "    today: {\n",
    "        'good' : '삼성전자',\n",
    "        'bad' : '스튜디오드래곤'\n",
    "    },\n",
    "    tomorrow:{\n",
    "        'good' : '네이버',\n",
    "        'bad' : '삼성화재'\n",
    "    }\n",
    "    \n",
    "})\n",
    "\n",
    "rank_ref = ref.child('ranking')\n",
    "rank_ref.set({\n",
    "    yesterday:\n",
    "        {1: '현대자동차',\n",
    "         2 : '카카오',\n",
    "         3 : '회사3',\n",
    "         4 : '회사4',\n",
    "         5 : '회사5',\n",
    "         6 : '회사6',\n",
    "         7 : '회사7',\n",
    "         8 : '회사8',\n",
    "         9 : '회사9',\n",
    "         10 : '회사10'},\n",
    "    today: {\n",
    "        1 : '삼성전자',\n",
    "        2 : '스튜디오드래곤',\n",
    "        3 : '회사3',\n",
    "        4 : '회사4',\n",
    "        5 : '회사5',\n",
    "        6 : '회사6',\n",
    "        7 : '회사7',\n",
    "        8 : '회사8',\n",
    "        9 : '회사9',\n",
    "        10 : '회사10'\n",
    "    },\n",
    "    tomorrow:{\n",
    "        1 : '네이버',\n",
    "        2 : '삼성화재',\n",
    "        3 : '회사3',\n",
    "        4 : '회사4',\n",
    "        5 : '회사5',\n",
    "        6 : '회사6',\n",
    "        7 : '회사7',\n",
    "        8 : '회사8',\n",
    "        9 : '회사9',\n",
    "        10 : '회사10'\n",
    "    }\n",
    "    \n",
    "})\n",
    "\n",
    "checked_ref = ref.child('checked')\n",
    "checked_ref.set({\n",
    "    yesterday:{\n",
    "        'service' : {\n",
    "            1 : 1,\n",
    "            2 : 1,\n",
    "            3 : 1,\n",
    "            4 : 1,\n",
    "            5 : 1,\n",
    "            6 : 1,\n",
    "            7 : 1,\n",
    "            8 : 1,\n",
    "            9 : 1,\n",
    "            10 : 0\n",
    "            },\n",
    "        'user': {\n",
    "            1 : 1,\n",
    "            2 : 0,\n",
    "            3 : 0,\n",
    "            4 : 1,\n",
    "            5 : 0,\n",
    "            6 : 0,\n",
    "            7 : 1,\n",
    "            8 : 1,\n",
    "            9 : 1,\n",
    "            10 : 0\n",
    "            }\n",
    "        },\n",
    "    today:{\n",
    "        'service' : {\n",
    "            1 : 1,\n",
    "            2 : 1,\n",
    "            3 : 1,\n",
    "            4 : 1,\n",
    "            5 : 1,\n",
    "            6 : 1,\n",
    "            7 : 1,\n",
    "            8 : 1,\n",
    "            9 : 1,\n",
    "            10 : 0\n",
    "            },\n",
    "        'user': {\n",
    "            1 : 1,\n",
    "            2 : 0,\n",
    "            3 : 0,\n",
    "            4 : 1,\n",
    "            5 : 0,\n",
    "            6 : 0,\n",
    "            7 : 1,\n",
    "            8 : 1,\n",
    "            9 : 1,\n",
    "            10 : 0\n",
    "            }\n",
    "        },\n",
    "    tomorrow:{\n",
    "        'service' : {\n",
    "            1 : 1,\n",
    "            2 : 1,\n",
    "            3 : 1,\n",
    "            4 : 1,\n",
    "            5 : 1,\n",
    "            6 : 1,\n",
    "            7 : 1,\n",
    "            8 : 1,\n",
    "            9 : 1,\n",
    "            10 : 0\n",
    "            },\n",
    "        'user': {\n",
    "            1 : 1,\n",
    "            2 : 0,\n",
    "            3 : 0,\n",
    "            4 : 1,\n",
    "            5 : 0,\n",
    "            6 : 0,\n",
    "            7 : 1,\n",
    "            8 : 1,\n",
    "            9 : 1,\n",
    "            10 : 0\n",
    "            }\n",
    "        }\n",
    "})"
   ]
  },
  {
   "cell_type": "markdown",
   "metadata": {},
   "source": [
    "### 채점결과"
   ]
  },
  {
   "cell_type": "code",
   "execution_count": null,
   "metadata": {},
   "outputs": [],
   "source": []
  }
 ],
 "metadata": {
  "interpreter": {
   "hash": "23a2a0bc51a84569493226c7202716ff719533279098e943952d60f720358c2e"
  },
  "kernelspec": {
   "display_name": "default",
   "language": "python",
   "name": "python3"
  },
  "language_info": {
   "codemirror_mode": {
    "name": "ipython",
    "version": 3
   },
   "file_extension": ".py",
   "mimetype": "text/x-python",
   "name": "python",
   "nbconvert_exporter": "python",
   "pygments_lexer": "ipython3",
   "version": "3.10.0"
  },
  "orig_nbformat": 4
 },
 "nbformat": 4,
 "nbformat_minor": 2
}
