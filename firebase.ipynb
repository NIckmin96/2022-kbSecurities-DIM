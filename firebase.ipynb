{
 "cells": [
  {
   "cell_type": "code",
   "execution_count": 1,
   "metadata": {},
   "outputs": [],
   "source": [
    "#pip install firebase_admin\n",
    "#pip install beautifulsoup4 \n",
    "#pip install finance-datareader"
   ]
  },
  {
   "cell_type": "code",
   "execution_count": 2,
   "metadata": {},
   "outputs": [],
   "source": [
    "from settingDatetime import *\n",
    "import firebase_admin\n",
    "import pandas as pd\n",
    "\n",
    "from firebase_admin import credentials\n",
    "from firebase_admin import db"
   ]
  },
  {
   "cell_type": "code",
   "execution_count": 3,
   "metadata": {},
   "outputs": [
    {
     "data": {
      "text/plain": [
       "<firebase_admin.App at 0x189848adff0>"
      ]
     },
     "execution_count": 3,
     "metadata": {},
     "output_type": "execute_result"
    }
   ],
   "source": [
    "#Firebase database 인증 및 앱 초기화\n",
    "cred = credentials.Certificate('kb-app-23eb5-firebase-adminsdk-72lxa-1fddf52ea4.json')\n",
    "firebase_admin.initialize_app(cred,{\n",
    "    'databaseURL' : 'https://kb-app-23eb5-default-rtdb.firebaseio.com/'\n",
    "})"
   ]
  },
  {
   "cell_type": "code",
   "execution_count": 4,
   "metadata": {},
   "outputs": [],
   "source": [
    "ref = db.reference()\n",
    "\n",
    "overall_ref = ref.child('overall')\n",
    "overall_ref.set({\n",
    "    yesterday+'-'+yesterday_day : '돌다리도 두드려 보고 건너라',\n",
    "    today+'-'+today_day : '물에 빠진 사람 건져줬더니 보따리 내놓으라 한다',\n",
    "    tomorrow+'-'+tomorrow_day : '백지장도 맞들면 낫다'   \n",
    "})\n",
    "\n",
    "todaystock_ref = ref.child('todaystock')\n",
    "todaystock_ref.set({\n",
    "    yesterday+'-'+yesterday_day:\n",
    "        {'good': '현대자동차',\n",
    "         'bad' : '카카오'},\n",
    "    today+'-'+today_day: {\n",
    "        'good' : '삼성전자',\n",
    "        'bad' : '스튜디오드래곤'\n",
    "    },\n",
    "    tomorrow+'-'+tomorrow_day:{\n",
    "        'good' : '네이버',\n",
    "        'bad' : '삼성화재'\n",
    "    }\n",
    "    \n",
    "})\n",
    "\n",
    "rank_ref = ref.child('ranking')\n",
    "rank_ref.set({\n",
    "    yesterday+'-'+yesterday_day:\n",
    "        {1: '현대자동차',\n",
    "         2 : '카카오',\n",
    "         3 : '회사3',\n",
    "         4 : '회사4',\n",
    "         5 : '회사5',\n",
    "         6 : '회사6',\n",
    "         7 : '회사7',\n",
    "         8 : '회사8',\n",
    "         9 : '회사9',\n",
    "         10 : '회사10'},\n",
    "    today+'-'+today_day: {\n",
    "        1 : '삼성전자',\n",
    "        2 : '스튜디오드래곤',\n",
    "        3 : '회사3',\n",
    "        4 : '회사4',\n",
    "        5 : '회사5',\n",
    "        6 : '회사6',\n",
    "        7 : '회사7',\n",
    "        8 : '회사8',\n",
    "        9 : '회사9',\n",
    "        10 : '회사10'\n",
    "    },\n",
    "    tomorrow+'-'+tomorrow_day:{\n",
    "        1 : '네이버',\n",
    "        2 : '삼성화재',\n",
    "        3 : '회사3',\n",
    "        4 : '회사4',\n",
    "        5 : '회사5',\n",
    "        6 : '회사6',\n",
    "        7 : '회사7',\n",
    "        8 : '회사8',\n",
    "        9 : '회사9',\n",
    "        10 : '회사10'\n",
    "    }\n",
    "    \n",
    "})\n",
    "\n",
    "checked_ref = ref.child('checked')\n",
    "checked_ref.set({\n",
    "    yesterday+'-'+yesterday_day:{\n",
    "        'service' : {\n",
    "            1 : '⭕',\n",
    "            2 : '⭕',\n",
    "            3 : '⭕',\n",
    "            4 : '⭕',\n",
    "            5 : '⭕',\n",
    "            6 : '⭕',\n",
    "            7 : '⭕',\n",
    "            8 : '⭕',\n",
    "            9 : '⭕',\n",
    "            10 : '❌'\n",
    "            },\n",
    "        'user': {\n",
    "            1 : '❌',\n",
    "            2 : '❌',\n",
    "            3 : '⭕',\n",
    "            4 : '⭕',\n",
    "            5 : '⭕',\n",
    "            6 : '⭕',\n",
    "            7 : '⭕',\n",
    "            8 : '⭕',\n",
    "            9 : '⭕',\n",
    "            10 : '⭕'\n",
    "            }\n",
    "        },\n",
    "    today+'-'+today_day:{\n",
    "        'service' : {\n",
    "            1 : '⭕',\n",
    "            2 : '⭕',\n",
    "            3 : '⭕',\n",
    "            4 : '⭕',\n",
    "            5 : '⭕',\n",
    "            6 : '⭕',\n",
    "            7 : '⭕',\n",
    "            8 : '⭕',\n",
    "            9 : '⭕',\n",
    "            10 : '⭕'\n",
    "            },\n",
    "        'user': {\n",
    "            1 : '⭕',\n",
    "            2 : '⭕',\n",
    "            3 : '⭕',\n",
    "            4 : '⭕',\n",
    "            5 : '⭕',\n",
    "            6 : '⭕',\n",
    "            7 : '⭕',\n",
    "            8 : '⭕',\n",
    "            9 : '⭕',\n",
    "            10 : '⭕'\n",
    "            }\n",
    "        },\n",
    "    tomorrow+'-'+tomorrow_day:{\n",
    "        'service' : {\n",
    "            1 : '⭕',\n",
    "            2 : '❌',\n",
    "            3 : '❌',\n",
    "            4 : '⭕',\n",
    "            5 : '⭕',\n",
    "            6 : '⭕',\n",
    "            7 : '⭕',\n",
    "            8 : '⭕',\n",
    "            9 : '⭕',\n",
    "            10 : '⭕'\n",
    "            },\n",
    "        'user': {\n",
    "            1 : '❌',\n",
    "            2 : '❌',\n",
    "            3 : '❌',\n",
    "            4 : '⭕',\n",
    "            5 : '⭕',\n",
    "            6 : '⭕',\n",
    "            7 : '⭕',\n",
    "            8 : '⭕',\n",
    "            9 : '⭕',\n",
    "            10 : '⭕'\n",
    "            }\n",
    "        }\n",
    "})"
   ]
  },
  {
   "cell_type": "markdown",
   "metadata": {},
   "source": [
    "## TodayStock Update"
   ]
  },
  {
   "cell_type": "code",
   "execution_count": null,
   "metadata": {},
   "outputs": [],
   "source": [
    "result = pd.read_csv(f'./data/result/{dateIndex}_result.csv',encoding='utf-8-sig')\n",
    "max_score = result[result.score==result.score.max()]\n",
    "min_score = result[result.score==result.score.min()]\n",
    "if max_score.score.values[0]>0 : \n",
    "    goodstock = max_score.word.values[0] \n",
    "else:\n",
    "    goodstock = '아쉽지만 찾을 수 없습니다'\n",
    "if min_score.score.values[0]<0:\n",
    "    badstock = min_score.word.values[0]\n",
    "else:\n",
    "    badstock = '다행히 없습니다'\n",
    "todaystockUpdate = {dateIndex:{'good':goodstock,'bad':badstock}}\n",
    "#display(result)\n",
    "\n",
    "\n",
    "ref = db.reference()\n",
    "todaystock_ref = ref.child('todaystock')\n",
    "todaystock_ref.update(todaystockUpdate)\n"
   ]
  },
  {
   "cell_type": "markdown",
   "metadata": {},
   "source": [
    "## Ranking Update"
   ]
  },
  {
   "cell_type": "code",
   "execution_count": null,
   "metadata": {},
   "outputs": [],
   "source": [
    "dateIndex = 20220325\n",
    "rank = pd.read_csv(f'./data/rank/{dateIndex}_rank.csv',encoding='utf-8-sig')\n",
    "\n",
    "companyRank = {}\n",
    "for i in range(len(rank.index)):\n",
    "    companyRank[i] = rank.word[i]\n",
    "rankUpdate = {dateIndex:companyRank}\n",
    "\n",
    "ref = db.reference()\n",
    "rank_ref = ref.child('ranking')\n",
    "rank_ref.update(rankUpdate)"
   ]
  },
  {
   "cell_type": "markdown",
   "metadata": {},
   "source": [
    "### 채점결과"
   ]
  },
  {
   "cell_type": "code",
   "execution_count": null,
   "metadata": {},
   "outputs": [],
   "source": []
  }
 ],
 "metadata": {
  "interpreter": {
   "hash": "23a2a0bc51a84569493226c7202716ff719533279098e943952d60f720358c2e"
  },
  "kernelspec": {
   "display_name": "kobert",
   "language": "python",
   "name": "kobert"
  },
  "language_info": {
   "codemirror_mode": {
    "name": "ipython",
    "version": 3
   },
   "file_extension": ".py",
   "mimetype": "text/x-python",
   "name": "python",
   "nbconvert_exporter": "python",
   "pygments_lexer": "ipython3",
   "version": "3.8.12"
  }
 },
 "nbformat": 4,
 "nbformat_minor": 2
}
