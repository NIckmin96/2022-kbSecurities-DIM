{
 "cells": [
  {
   "cell_type": "code",
   "execution_count": null,
   "id": "c7f0f275",
   "metadata": {},
   "outputs": [],
   "source": [
    "import datetime\n",
    "from dateutil.relativedelta import relativedelta"
   ]
  },
  {
   "cell_type": "code",
   "execution_count": null,
   "id": "15818cef",
   "metadata": {},
   "outputs": [],
   "source": [
    "#형식 datetime.date(2022, 3, 28)\n",
    "today_datetime = datetime.date.today()\n",
    "yesterday_datetime = today_datetime - datetime.timedelta(days=1)\n",
    "tomorrow_datetime = today_datetime + datetime.timedelta(days=1)\n",
    "\n",
    "# 형식 '2022-03-28'\n",
    "yesterday_default = str(yesterday_datetime)\n",
    "today_default = str(today_datetime)\n",
    "tomorrow_default = str(tomorrow_datetime)\n",
    "\n",
    "# 형식 '20220328'\n",
    "yesterday = yesterday_default.replace(\"-\",'')\n",
    "today = today_default.replace(\"-\",'')\n",
    "tomorrow = tomorrow_default.replace(\"-\",'')"
   ]
  },
  {
   "cell_type": "code",
   "execution_count": null,
   "id": "4944b64f",
   "metadata": {},
   "outputs": [],
   "source": [
    "# 요일\n",
    "days = ['월', '화', '수', '목', '금', '토', '일']\n",
    "\n",
    "yesterday_index = (datetime.datetime.today()- datetime.timedelta(days=1)).weekday()\n",
    "today_index = (datetime.datetime.today()).weekday()\n",
    "tomorrow_index = (datetime.datetime.today()- datetime.timedelta(days=2)).weekday()\n",
    "\n",
    "# 형식 '월'\n",
    "yesterday_day = days[yesterday_index]\n",
    "today_day = days[today_index]\n",
    "tomorrow_day = days[tomorrow_index]"
   ]
  },
  {
   "cell_type": "code",
   "execution_count": null,
   "id": "8605f64b",
   "metadata": {},
   "outputs": [],
   "source": [
    "# 타겟 날짜 및 요일 설정\n",
    "## 어제를 타겟 날짜 및 요일의 디폴트값으로 설정\n",
    "target_datetime = yesterday_datetime\n",
    "target_default = yesterday_default\n",
    "target = yesterday\n",
    "target_day = yesterday_day"
   ]
  },
  {
   "cell_type": "code",
   "execution_count": null,
   "id": "cd487cbc",
   "metadata": {},
   "outputs": [],
   "source": [
    "# 크롤링에 쓰일 리스트\n",
    "dates = [] # 공휴일이 끼어있을 경우 임의 지정\n",
    "\n",
    "\"\"\"\n",
    "공휴일이 없다는 가정하에,\n",
    "크롤링하는 요일은 월,화,수,목,금\n",
    "오전 12시가 되면 전날 기사를 크롤링하는 것으로 함.\n",
    "주말이 끼어있을 경우, 월요일 오전 12시가 되면 전주 금,토,일 기사를 모두 크롤링하는 것으로 함.\n",
    "\"\"\"\n",
    "\n",
    "if target_day=='일':\n",
    "    for i in range(0,3):\n",
    "        dates.append(str(yesterday_datetime - datetime.timedelta(days=i)).replace(\"-\",\"\"))\n",
    "    target = dates[len(dates)-1]+'-'+dates[0]\n",
    "    target_day = \",\".join(days[4:])\n",
    "\n",
    "elif target_day=='금' or target_day=='토':\n",
    "    dates = []\n",
    "    \n",
    "else:\n",
    "    dates= [yesterday]"
   ]
  }
 ],
 "metadata": {
  "kernelspec": {
   "display_name": "kobert",
   "language": "python",
   "name": "kobert"
  },
  "language_info": {
   "codemirror_mode": {
    "name": "ipython",
    "version": 3
   },
   "file_extension": ".py",
   "mimetype": "text/x-python",
   "name": "python",
   "nbconvert_exporter": "python",
   "pygments_lexer": "ipython3",
   "version": "3.8.12"
  }
 },
 "nbformat": 4,
 "nbformat_minor": 5
}
