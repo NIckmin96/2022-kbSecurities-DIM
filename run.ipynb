{
 "cells": [
  {
   "cell_type": "code",
   "execution_count": 1,
   "id": "70084e16",
   "metadata": {
    "ExecuteTime": {
     "end_time": "2022-03-28T11:05:34.488240Z",
     "start_time": "2022-03-28T11:05:34.483002Z"
    }
   },
   "outputs": [],
   "source": [
    "import crawling"
   ]
  },
  {
   "cell_type": "code",
   "execution_count": 2,
   "id": "a4054c4b",
   "metadata": {
    "ExecuteTime": {
     "end_time": "2022-03-28T11:17:33.396738Z",
     "start_time": "2022-03-28T11:05:34.492046Z"
    }
   },
   "outputs": [],
   "source": [
    "import keyword2"
   ]
  },
  {
   "cell_type": "code",
   "execution_count": 3,
   "id": "92ec94fc",
   "metadata": {
    "ExecuteTime": {
     "end_time": "2022-03-28T11:17:33.405751Z",
     "start_time": "2022-03-28T11:17:33.401585Z"
    }
   },
   "outputs": [],
   "source": [
    "import w2v"
   ]
  },
  {
   "cell_type": "code",
   "execution_count": 4,
   "id": "6332fb85",
   "metadata": {
    "ExecuteTime": {
     "end_time": "2022-03-28T11:17:33.417020Z",
     "start_time": "2022-03-28T11:17:33.410901Z"
    }
   },
   "outputs": [],
   "source": [
    "import pandas as pd"
   ]
  },
  {
   "cell_type": "code",
   "execution_count": 5,
   "id": "37334ec5",
   "metadata": {
    "ExecuteTime": {
     "end_time": "2022-03-28T11:17:37.421559Z",
     "start_time": "2022-03-28T11:17:33.421850Z"
    }
   },
   "outputs": [
    {
     "name": "stderr",
     "output_type": "stream",
     "text": [
      "100%|█████████████████████████████████████| 2256/2256 [00:00<00:00, 4171.45it/s]\n"
     ]
    },
    {
     "name": "stdout",
     "output_type": "stream",
     "text": [
      "keywords have been extracted!\n",
      "stock list has been extracted and saved!\n",
      "articles have been extracted and saved!\n"
     ]
    }
   ],
   "source": [
    "keyword2.extract_10keywords() # csv로 저장[1. 키워드10개 : word_df.csv / 2. w2v 결과(종목 10개) : w2v_result.csv / 3. 관련 기사 추출 : stocks_n_articles.csv]"
   ]
  }
 ],
 "metadata": {
  "kernelspec": {
   "display_name": "Python 3 (ipykernel)",
   "language": "python",
   "name": "python3"
  },
  "language_info": {
   "codemirror_mode": {
    "name": "ipython",
    "version": 3
   },
   "file_extension": ".py",
   "mimetype": "text/x-python",
   "name": "python",
   "nbconvert_exporter": "python",
   "pygments_lexer": "ipython3",
   "version": "3.8.12"
  },
  "toc": {
   "base_numbering": 1,
   "nav_menu": {},
   "number_sections": true,
   "sideBar": true,
   "skip_h1_title": false,
   "title_cell": "Table of Contents",
   "title_sidebar": "Contents",
   "toc_cell": false,
   "toc_position": {},
   "toc_section_display": true,
   "toc_window_display": false
  },
  "varInspector": {
   "cols": {
    "lenName": 16,
    "lenType": 16,
    "lenVar": 40
   },
   "kernels_config": {
    "python": {
     "delete_cmd_postfix": "",
     "delete_cmd_prefix": "del ",
     "library": "var_list.py",
     "varRefreshCmd": "print(var_dic_list())"
    },
    "r": {
     "delete_cmd_postfix": ") ",
     "delete_cmd_prefix": "rm(",
     "library": "var_list.r",
     "varRefreshCmd": "cat(var_dic_list()) "
    }
   },
   "types_to_exclude": [
    "module",
    "function",
    "builtin_function_or_method",
    "instance",
    "_Feature"
   ],
   "window_display": false
  }
 },
 "nbformat": 4,
 "nbformat_minor": 5
}
