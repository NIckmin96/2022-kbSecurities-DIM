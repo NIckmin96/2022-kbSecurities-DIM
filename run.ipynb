{
 "cells": [
  {
   "cell_type": "code",
   "execution_count": 1,
   "id": "70084e16",
   "metadata": {
    "ExecuteTime": {
     "end_time": "2022-03-28T11:05:34.488240Z",
     "start_time": "2022-03-28T11:05:34.483002Z"
    }
   },
   "outputs": [],
   "source": [
    "from crawling import *\n",
    "from keyword2 import *"
   ]
  },
  {
   "cell_type": "code",
   "execution_count": null,
   "id": "4262b707",
   "metadata": {},
   "outputs": [],
   "source": [
    "get_news()"
   ]
  },
  {
   "cell_type": "code",
   "execution_count": 3,
   "id": "37334ec5",
   "metadata": {
    "ExecuteTime": {
     "end_time": "2022-03-28T11:17:37.421559Z",
     "start_time": "2022-03-28T11:17:33.421850Z"
    }
   },
   "outputs": [
    {
     "name": "stderr",
     "output_type": "stream",
     "text": [
      "100%|██████████| 9854/9854 [00:01<00:00, 6876.33it/s] \n"
     ]
    },
    {
     "name": "stdout",
     "output_type": "stream",
     "text": [
      "keywords have been extracted!\n"
     ]
    },
    {
     "ename": "ValueError",
     "evalue": "Length of values (8) does not match length of index (10)",
     "output_type": "error",
     "traceback": [
      "\u001b[1;31m---------------------------------------------------------------------------\u001b[0m",
      "\u001b[1;31mValueError\u001b[0m                                Traceback (most recent call last)",
      "\u001b[1;32mc:\\Users\\kongminseok\\Documents\\minseok\\2022_kbSecurities_DIM\\run.ipynb Cell 3'\u001b[0m in \u001b[0;36m<module>\u001b[1;34m\u001b[0m\n\u001b[0;32m      <a href='vscode-notebook-cell:/c%3A/Users/kongminseok/Documents/minseok/2022_kbSecurities_DIM/run.ipynb#ch0000003?line=0'>1</a>\u001b[0m \u001b[39m# csv로 저장\u001b[39;00m\n\u001b[0;32m      <a href='vscode-notebook-cell:/c%3A/Users/kongminseok/Documents/minseok/2022_kbSecurities_DIM/run.ipynb#ch0000003?line=1'>2</a>\u001b[0m \u001b[39m# [1. 키워드10개 : word_df.csv / 2. w2v 결과(종목 10개) : w2v_result.csv / 3. 관련 기사 추출 : stocks_n_articles.csv]\u001b[39;00m\n\u001b[1;32m----> <a href='vscode-notebook-cell:/c%3A/Users/kongminseok/Documents/minseok/2022_kbSecurities_DIM/run.ipynb#ch0000003?line=2'>3</a>\u001b[0m extract_10keywords()\n",
      "File \u001b[1;32mc:\\Users\\kongminseok\\Documents\\minseok\\2022_kbSecurities_DIM\\keyword2.py:104\u001b[0m, in \u001b[0;36mextract_10keywords\u001b[1;34m()\u001b[0m\n\u001b[0;32m    <a href='file:///c%3A/Users/kongminseok/Documents/minseok/2022_kbSecurities_DIM/keyword2.py?line=99'>100</a>\u001b[0m     word_n_article[[\u001b[39m'\u001b[39m\u001b[39mdate\u001b[39m\u001b[39m'\u001b[39m,\u001b[39m'\u001b[39m\u001b[39mday\u001b[39m\u001b[39m'\u001b[39m,\u001b[39m'\u001b[39m\u001b[39mword\u001b[39m\u001b[39m'\u001b[39m,\u001b[39m'\u001b[39m\u001b[39mtext\u001b[39m\u001b[39m'\u001b[39m]]\u001b[39m.\u001b[39mto_csv(\u001b[39mf\u001b[39m\u001b[39m'\u001b[39m\u001b[39m./data/input/\u001b[39m\u001b[39m{\u001b[39;00mtarget\u001b[39m}\u001b[39;00m\u001b[39m_input.csv\u001b[39m\u001b[39m'\u001b[39m,encoding\u001b[39m=\u001b[39m\u001b[39m'\u001b[39m\u001b[39mutf-8-sig\u001b[39m\u001b[39m'\u001b[39m,index\u001b[39m=\u001b[39m\u001b[39mFalse\u001b[39;00m)\n\u001b[0;32m    <a href='file:///c%3A/Users/kongminseok/Documents/minseok/2022_kbSecurities_DIM/keyword2.py?line=101'>102</a>\u001b[0m     \u001b[39mreturn\u001b[39;00m \u001b[39mprint\u001b[39m(\u001b[39m'\u001b[39m\u001b[39marticles have been extracted and saved!\u001b[39m\u001b[39m'\u001b[39m)\n\u001b[1;32m--> <a href='file:///c%3A/Users/kongminseok/Documents/minseok/2022_kbSecurities_DIM/keyword2.py?line=103'>104</a>\u001b[0m drop_null_n_duplicates(title_series)\n",
      "File \u001b[1;32mc:\\Users\\kongminseok\\Documents\\minseok\\2022_kbSecurities_DIM\\keyword2.py:39\u001b[0m, in \u001b[0;36mextract_10keywords.<locals>.drop_null_n_duplicates\u001b[1;34m(untokenized_texts)\u001b[0m\n\u001b[0;32m     <a href='file:///c%3A/Users/kongminseok/Documents/minseok/2022_kbSecurities_DIM/keyword2.py?line=35'>36</a>\u001b[0m untokenized_texts \u001b[39m=\u001b[39m untokenized_texts\u001b[39m.\u001b[39mdrop_duplicates()\n\u001b[0;32m     <a href='file:///c%3A/Users/kongminseok/Documents/minseok/2022_kbSecurities_DIM/keyword2.py?line=36'>37</a>\u001b[0m untokenized_texts \u001b[39m=\u001b[39m untokenized_texts\u001b[39m.\u001b[39mdropna()\n\u001b[1;32m---> <a href='file:///c%3A/Users/kongminseok/Documents/minseok/2022_kbSecurities_DIM/keyword2.py?line=38'>39</a>\u001b[0m tokenize(untokenized_texts)\n",
      "File \u001b[1;32mc:\\Users\\kongminseok\\Documents\\minseok\\2022_kbSecurities_DIM\\keyword2.py:45\u001b[0m, in \u001b[0;36mextract_10keywords.<locals>.tokenize\u001b[1;34m(untokenized_texts)\u001b[0m\n\u001b[0;32m     <a href='file:///c%3A/Users/kongminseok/Documents/minseok/2022_kbSecurities_DIM/keyword2.py?line=40'>41</a>\u001b[0m \u001b[39mdef\u001b[39;00m \u001b[39mtokenize\u001b[39m(untokenized_texts) : \u001b[39m# 토크나이징하기(Nouns)\u001b[39;00m\n\u001b[0;32m     <a href='file:///c%3A/Users/kongminseok/Documents/minseok/2022_kbSecurities_DIM/keyword2.py?line=42'>43</a>\u001b[0m     tokenized_texts \u001b[39m=\u001b[39m untokenized_texts\u001b[39m.\u001b[39mmap(\u001b[39mlambda\u001b[39;00m x : twitter\u001b[39m.\u001b[39mnouns(x))\n\u001b[1;32m---> <a href='file:///c%3A/Users/kongminseok/Documents/minseok/2022_kbSecurities_DIM/keyword2.py?line=44'>45</a>\u001b[0m     count_n_sort(untokenized_texts, tokenized_texts)\n",
      "File \u001b[1;32mc:\\Users\\kongminseok\\Documents\\minseok\\2022_kbSecurities_DIM\\keyword2.py:59\u001b[0m, in \u001b[0;36mextract_10keywords.<locals>.count_n_sort\u001b[1;34m(untokenized_texts, tokenized_texts)\u001b[0m\n\u001b[0;32m     <a href='file:///c%3A/Users/kongminseok/Documents/minseok/2022_kbSecurities_DIM/keyword2.py?line=55'>56</a>\u001b[0m res_dict \u001b[39m=\u001b[39m \u001b[39mdict\u001b[39m(\u001b[39msorted\u001b[39m(dic\u001b[39m.\u001b[39mitems(), key\u001b[39m=\u001b[39m\u001b[39mlambda\u001b[39;00m item: item[\u001b[39m1\u001b[39m], reverse \u001b[39m=\u001b[39m \u001b[39mTrue\u001b[39;00m))\n\u001b[0;32m     <a href='file:///c%3A/Users/kongminseok/Documents/minseok/2022_kbSecurities_DIM/keyword2.py?line=56'>57</a>\u001b[0m word_rank_df \u001b[39m=\u001b[39m pd\u001b[39m.\u001b[39mDataFrame(\u001b[39mlist\u001b[39m(res_dict\u001b[39m.\u001b[39mitems()),columns\u001b[39m=\u001b[39m[\u001b[39m'\u001b[39m\u001b[39mword\u001b[39m\u001b[39m'\u001b[39m, \u001b[39m'\u001b[39m\u001b[39mcount\u001b[39m\u001b[39m'\u001b[39m])\n\u001b[1;32m---> <a href='file:///c%3A/Users/kongminseok/Documents/minseok/2022_kbSecurities_DIM/keyword2.py?line=58'>59</a>\u001b[0m filter_stopword(untokenized_texts, tokenized_texts, word_rank_df)\n",
      "File \u001b[1;32mc:\\Users\\kongminseok\\Documents\\minseok\\2022_kbSecurities_DIM\\keyword2.py:77\u001b[0m, in \u001b[0;36mextract_10keywords.<locals>.filter_stopword\u001b[1;34m(untokenized_texts, tokenized_texts, word_rank_df)\u001b[0m\n\u001b[0;32m     <a href='file:///c%3A/Users/kongminseok/Documents/minseok/2022_kbSecurities_DIM/keyword2.py?line=70'>71</a>\u001b[0m \u001b[39m#untokenized_texts.to_csv('./data/untokenized_texts.csv',encoding='utf-8-sig',index=False)\u001b[39;00m\n\u001b[0;32m     <a href='file:///c%3A/Users/kongminseok/Documents/minseok/2022_kbSecurities_DIM/keyword2.py?line=71'>72</a>\u001b[0m \u001b[39m#tokenized_texts.to_csv('./data/tokenized_texts.csv',encoding='utf-8-sig',index=False)\u001b[39;00m\n\u001b[0;32m     <a href='file:///c%3A/Users/kongminseok/Documents/minseok/2022_kbSecurities_DIM/keyword2.py?line=72'>73</a>\u001b[0m \u001b[39m#word_df.to_csv('./data/word_df.csv',encoding='utf-8-sig',index=False)\u001b[39;00m\n\u001b[0;32m     <a href='file:///c%3A/Users/kongminseok/Documents/minseok/2022_kbSecurities_DIM/keyword2.py?line=74'>75</a>\u001b[0m \u001b[39mprint\u001b[39m(\u001b[39m\"\u001b[39m\u001b[39mkeywords have been extracted!\u001b[39m\u001b[39m\"\u001b[39m)\n\u001b[1;32m---> <a href='file:///c%3A/Users/kongminseok/Documents/minseok/2022_kbSecurities_DIM/keyword2.py?line=76'>77</a>\u001b[0m w2v\u001b[39m.\u001b[39;49mget_stock_name(word_df[\u001b[39m'\u001b[39;49m\u001b[39mword\u001b[39;49m\u001b[39m'\u001b[39;49m], word_df[\u001b[39m'\u001b[39;49m\u001b[39mcount\u001b[39;49m\u001b[39m'\u001b[39;49m])\n\u001b[0;32m     <a href='file:///c%3A/Users/kongminseok/Documents/minseok/2022_kbSecurities_DIM/keyword2.py?line=78'>79</a>\u001b[0m w2v_res \u001b[39m=\u001b[39m pd\u001b[39m.\u001b[39mread_csv(\u001b[39mf\u001b[39m\u001b[39m'\u001b[39m\u001b[39m./data/rank/\u001b[39m\u001b[39m{\u001b[39;00mtarget\u001b[39m}\u001b[39;00m\u001b[39m_rank.csv\u001b[39m\u001b[39m'\u001b[39m,encoding\u001b[39m=\u001b[39m\u001b[39m'\u001b[39m\u001b[39mutf-8-sig\u001b[39m\u001b[39m'\u001b[39m)\n\u001b[0;32m     <a href='file:///c%3A/Users/kongminseok/Documents/minseok/2022_kbSecurities_DIM/keyword2.py?line=80'>81</a>\u001b[0m find_text_from_word(w2v_res[\u001b[39m'\u001b[39m\u001b[39mstock\u001b[39m\u001b[39m'\u001b[39m], tokenized_texts, untokenized_texts)\n",
      "File \u001b[1;32mc:\\Users\\kongminseok\\Documents\\minseok\\2022_kbSecurities_DIM\\w2v.py:95\u001b[0m, in \u001b[0;36mget_stock_name\u001b[1;34m(keyword_lst, count)\u001b[0m\n\u001b[0;32m     <a href='file:///c%3A/Users/kongminseok/Documents/minseok/2022_kbSecurities_DIM/w2v.py?line=92'>93</a>\u001b[0m res[\u001b[39m'\u001b[39m\u001b[39mword\u001b[39m\u001b[39m'\u001b[39m] \u001b[39m=\u001b[39m keyword_lst\n\u001b[0;32m     <a href='file:///c%3A/Users/kongminseok/Documents/minseok/2022_kbSecurities_DIM/w2v.py?line=93'>94</a>\u001b[0m res[\u001b[39m'\u001b[39m\u001b[39mcount\u001b[39m\u001b[39m'\u001b[39m] \u001b[39m=\u001b[39m count\n\u001b[1;32m---> <a href='file:///c%3A/Users/kongminseok/Documents/minseok/2022_kbSecurities_DIM/w2v.py?line=94'>95</a>\u001b[0m res[\u001b[39m'\u001b[39m\u001b[39mstock\u001b[39m\u001b[39m'\u001b[39m] \u001b[39m=\u001b[39m stock_lst\n\u001b[0;32m     <a href='file:///c%3A/Users/kongminseok/Documents/minseok/2022_kbSecurities_DIM/w2v.py?line=95'>96</a>\u001b[0m res\u001b[39m.\u001b[39mto_csv(\u001b[39mf\u001b[39m\u001b[39m'\u001b[39m\u001b[39m./data/rank/\u001b[39m\u001b[39m{\u001b[39;00mtarget\u001b[39m}\u001b[39;00m\u001b[39m_rank.csv\u001b[39m\u001b[39m'\u001b[39m, encoding\u001b[39m=\u001b[39m\u001b[39m'\u001b[39m\u001b[39mutf-8-sig\u001b[39m\u001b[39m'\u001b[39m, index \u001b[39m=\u001b[39m \u001b[39mFalse\u001b[39;00m)\n\u001b[0;32m     <a href='file:///c%3A/Users/kongminseok/Documents/minseok/2022_kbSecurities_DIM/w2v.py?line=98'>99</a>\u001b[0m \u001b[39mreturn\u001b[39;00m \u001b[39mprint\u001b[39m(\u001b[39m'\u001b[39m\u001b[39mstock list has been extracted and saved!\u001b[39m\u001b[39m'\u001b[39m)\n",
      "File \u001b[1;32m~\\anaconda3\\envs\\nlp\\lib\\site-packages\\pandas\\core\\frame.py:3612\u001b[0m, in \u001b[0;36mDataFrame.__setitem__\u001b[1;34m(self, key, value)\u001b[0m\n\u001b[0;32m   <a href='file:///c%3A/Users/kongminseok/anaconda3/envs/nlp/lib/site-packages/pandas/core/frame.py?line=3608'>3609</a>\u001b[0m     \u001b[39mself\u001b[39m\u001b[39m.\u001b[39m_setitem_array([key], value)\n\u001b[0;32m   <a href='file:///c%3A/Users/kongminseok/anaconda3/envs/nlp/lib/site-packages/pandas/core/frame.py?line=3609'>3610</a>\u001b[0m \u001b[39melse\u001b[39;00m:\n\u001b[0;32m   <a href='file:///c%3A/Users/kongminseok/anaconda3/envs/nlp/lib/site-packages/pandas/core/frame.py?line=3610'>3611</a>\u001b[0m     \u001b[39m# set column\u001b[39;00m\n\u001b[1;32m-> <a href='file:///c%3A/Users/kongminseok/anaconda3/envs/nlp/lib/site-packages/pandas/core/frame.py?line=3611'>3612</a>\u001b[0m     \u001b[39mself\u001b[39;49m\u001b[39m.\u001b[39;49m_set_item(key, value)\n",
      "File \u001b[1;32m~\\anaconda3\\envs\\nlp\\lib\\site-packages\\pandas\\core\\frame.py:3784\u001b[0m, in \u001b[0;36mDataFrame._set_item\u001b[1;34m(self, key, value)\u001b[0m\n\u001b[0;32m   <a href='file:///c%3A/Users/kongminseok/anaconda3/envs/nlp/lib/site-packages/pandas/core/frame.py?line=3773'>3774</a>\u001b[0m \u001b[39mdef\u001b[39;00m \u001b[39m_set_item\u001b[39m(\u001b[39mself\u001b[39m, key, value) \u001b[39m-\u001b[39m\u001b[39m>\u001b[39m \u001b[39mNone\u001b[39;00m:\n\u001b[0;32m   <a href='file:///c%3A/Users/kongminseok/anaconda3/envs/nlp/lib/site-packages/pandas/core/frame.py?line=3774'>3775</a>\u001b[0m     \u001b[39m\"\"\"\u001b[39;00m\n\u001b[0;32m   <a href='file:///c%3A/Users/kongminseok/anaconda3/envs/nlp/lib/site-packages/pandas/core/frame.py?line=3775'>3776</a>\u001b[0m \u001b[39m    Add series to DataFrame in specified column.\u001b[39;00m\n\u001b[0;32m   <a href='file:///c%3A/Users/kongminseok/anaconda3/envs/nlp/lib/site-packages/pandas/core/frame.py?line=3776'>3777</a>\u001b[0m \n\u001b[1;32m   (...)\u001b[0m\n\u001b[0;32m   <a href='file:///c%3A/Users/kongminseok/anaconda3/envs/nlp/lib/site-packages/pandas/core/frame.py?line=3781'>3782</a>\u001b[0m \u001b[39m    ensure homogeneity.\u001b[39;00m\n\u001b[0;32m   <a href='file:///c%3A/Users/kongminseok/anaconda3/envs/nlp/lib/site-packages/pandas/core/frame.py?line=3782'>3783</a>\u001b[0m \u001b[39m    \"\"\"\u001b[39;00m\n\u001b[1;32m-> <a href='file:///c%3A/Users/kongminseok/anaconda3/envs/nlp/lib/site-packages/pandas/core/frame.py?line=3783'>3784</a>\u001b[0m     value \u001b[39m=\u001b[39m \u001b[39mself\u001b[39;49m\u001b[39m.\u001b[39;49m_sanitize_column(value)\n\u001b[0;32m   <a href='file:///c%3A/Users/kongminseok/anaconda3/envs/nlp/lib/site-packages/pandas/core/frame.py?line=3785'>3786</a>\u001b[0m     \u001b[39mif\u001b[39;00m (\n\u001b[0;32m   <a href='file:///c%3A/Users/kongminseok/anaconda3/envs/nlp/lib/site-packages/pandas/core/frame.py?line=3786'>3787</a>\u001b[0m         key \u001b[39min\u001b[39;00m \u001b[39mself\u001b[39m\u001b[39m.\u001b[39mcolumns\n\u001b[0;32m   <a href='file:///c%3A/Users/kongminseok/anaconda3/envs/nlp/lib/site-packages/pandas/core/frame.py?line=3787'>3788</a>\u001b[0m         \u001b[39mand\u001b[39;00m value\u001b[39m.\u001b[39mndim \u001b[39m==\u001b[39m \u001b[39m1\u001b[39m\n\u001b[0;32m   <a href='file:///c%3A/Users/kongminseok/anaconda3/envs/nlp/lib/site-packages/pandas/core/frame.py?line=3788'>3789</a>\u001b[0m         \u001b[39mand\u001b[39;00m \u001b[39mnot\u001b[39;00m is_extension_array_dtype(value)\n\u001b[0;32m   <a href='file:///c%3A/Users/kongminseok/anaconda3/envs/nlp/lib/site-packages/pandas/core/frame.py?line=3789'>3790</a>\u001b[0m     ):\n\u001b[0;32m   <a href='file:///c%3A/Users/kongminseok/anaconda3/envs/nlp/lib/site-packages/pandas/core/frame.py?line=3790'>3791</a>\u001b[0m         \u001b[39m# broadcast across multiple columns if necessary\u001b[39;00m\n\u001b[0;32m   <a href='file:///c%3A/Users/kongminseok/anaconda3/envs/nlp/lib/site-packages/pandas/core/frame.py?line=3791'>3792</a>\u001b[0m         \u001b[39mif\u001b[39;00m \u001b[39mnot\u001b[39;00m \u001b[39mself\u001b[39m\u001b[39m.\u001b[39mcolumns\u001b[39m.\u001b[39mis_unique \u001b[39mor\u001b[39;00m \u001b[39misinstance\u001b[39m(\u001b[39mself\u001b[39m\u001b[39m.\u001b[39mcolumns, MultiIndex):\n",
      "File \u001b[1;32m~\\anaconda3\\envs\\nlp\\lib\\site-packages\\pandas\\core\\frame.py:4509\u001b[0m, in \u001b[0;36mDataFrame._sanitize_column\u001b[1;34m(self, value)\u001b[0m\n\u001b[0;32m   <a href='file:///c%3A/Users/kongminseok/anaconda3/envs/nlp/lib/site-packages/pandas/core/frame.py?line=4505'>4506</a>\u001b[0m     \u001b[39mreturn\u001b[39;00m _reindex_for_setitem(value, \u001b[39mself\u001b[39m\u001b[39m.\u001b[39mindex)\n\u001b[0;32m   <a href='file:///c%3A/Users/kongminseok/anaconda3/envs/nlp/lib/site-packages/pandas/core/frame.py?line=4507'>4508</a>\u001b[0m \u001b[39mif\u001b[39;00m is_list_like(value):\n\u001b[1;32m-> <a href='file:///c%3A/Users/kongminseok/anaconda3/envs/nlp/lib/site-packages/pandas/core/frame.py?line=4508'>4509</a>\u001b[0m     com\u001b[39m.\u001b[39;49mrequire_length_match(value, \u001b[39mself\u001b[39;49m\u001b[39m.\u001b[39;49mindex)\n\u001b[0;32m   <a href='file:///c%3A/Users/kongminseok/anaconda3/envs/nlp/lib/site-packages/pandas/core/frame.py?line=4509'>4510</a>\u001b[0m \u001b[39mreturn\u001b[39;00m sanitize_array(value, \u001b[39mself\u001b[39m\u001b[39m.\u001b[39mindex, copy\u001b[39m=\u001b[39m\u001b[39mTrue\u001b[39;00m, allow_2d\u001b[39m=\u001b[39m\u001b[39mTrue\u001b[39;00m)\n",
      "File \u001b[1;32m~\\anaconda3\\envs\\nlp\\lib\\site-packages\\pandas\\core\\common.py:531\u001b[0m, in \u001b[0;36mrequire_length_match\u001b[1;34m(data, index)\u001b[0m\n\u001b[0;32m    <a href='file:///c%3A/Users/kongminseok/anaconda3/envs/nlp/lib/site-packages/pandas/core/common.py?line=526'>527</a>\u001b[0m \u001b[39m\"\"\"\u001b[39;00m\n\u001b[0;32m    <a href='file:///c%3A/Users/kongminseok/anaconda3/envs/nlp/lib/site-packages/pandas/core/common.py?line=527'>528</a>\u001b[0m \u001b[39mCheck the length of data matches the length of the index.\u001b[39;00m\n\u001b[0;32m    <a href='file:///c%3A/Users/kongminseok/anaconda3/envs/nlp/lib/site-packages/pandas/core/common.py?line=528'>529</a>\u001b[0m \u001b[39m\"\"\"\u001b[39;00m\n\u001b[0;32m    <a href='file:///c%3A/Users/kongminseok/anaconda3/envs/nlp/lib/site-packages/pandas/core/common.py?line=529'>530</a>\u001b[0m \u001b[39mif\u001b[39;00m \u001b[39mlen\u001b[39m(data) \u001b[39m!=\u001b[39m \u001b[39mlen\u001b[39m(index):\n\u001b[1;32m--> <a href='file:///c%3A/Users/kongminseok/anaconda3/envs/nlp/lib/site-packages/pandas/core/common.py?line=530'>531</a>\u001b[0m     \u001b[39mraise\u001b[39;00m \u001b[39mValueError\u001b[39;00m(\n\u001b[0;32m    <a href='file:///c%3A/Users/kongminseok/anaconda3/envs/nlp/lib/site-packages/pandas/core/common.py?line=531'>532</a>\u001b[0m         \u001b[39m\"\u001b[39m\u001b[39mLength of values \u001b[39m\u001b[39m\"\u001b[39m\n\u001b[0;32m    <a href='file:///c%3A/Users/kongminseok/anaconda3/envs/nlp/lib/site-packages/pandas/core/common.py?line=532'>533</a>\u001b[0m         \u001b[39mf\u001b[39m\u001b[39m\"\u001b[39m\u001b[39m(\u001b[39m\u001b[39m{\u001b[39;00m\u001b[39mlen\u001b[39m(data)\u001b[39m}\u001b[39;00m\u001b[39m) \u001b[39m\u001b[39m\"\u001b[39m\n\u001b[0;32m    <a href='file:///c%3A/Users/kongminseok/anaconda3/envs/nlp/lib/site-packages/pandas/core/common.py?line=533'>534</a>\u001b[0m         \u001b[39m\"\u001b[39m\u001b[39mdoes not match length of index \u001b[39m\u001b[39m\"\u001b[39m\n\u001b[0;32m    <a href='file:///c%3A/Users/kongminseok/anaconda3/envs/nlp/lib/site-packages/pandas/core/common.py?line=534'>535</a>\u001b[0m         \u001b[39mf\u001b[39m\u001b[39m\"\u001b[39m\u001b[39m(\u001b[39m\u001b[39m{\u001b[39;00m\u001b[39mlen\u001b[39m(index)\u001b[39m}\u001b[39;00m\u001b[39m)\u001b[39m\u001b[39m\"\u001b[39m\n\u001b[0;32m    <a href='file:///c%3A/Users/kongminseok/anaconda3/envs/nlp/lib/site-packages/pandas/core/common.py?line=535'>536</a>\u001b[0m     )\n",
      "\u001b[1;31mValueError\u001b[0m: Length of values (8) does not match length of index (10)"
     ]
    }
   ],
   "source": [
    "# csv로 저장\n",
    "# [1. 키워드10개 : word_df.csv / 2. w2v 결과(종목 10개) : w2v_result.csv / 3. 관련 기사 추출 : stocks_n_articles.csv]\n",
    "extract_10keywords()"
   ]
  },
  {
   "cell_type": "code",
   "execution_count": 6,
   "id": "6cb4f977",
   "metadata": {},
   "outputs": [
    {
     "data": {
      "text/html": [
       "<div>\n",
       "<style scoped>\n",
       "    .dataframe tbody tr th:only-of-type {\n",
       "        vertical-align: middle;\n",
       "    }\n",
       "\n",
       "    .dataframe tbody tr th {\n",
       "        vertical-align: top;\n",
       "    }\n",
       "\n",
       "    .dataframe thead th {\n",
       "        text-align: right;\n",
       "    }\n",
       "</style>\n",
       "<table border=\"1\" class=\"dataframe\">\n",
       "  <thead>\n",
       "    <tr style=\"text-align: right;\">\n",
       "      <th></th>\n",
       "      <th>시간</th>\n",
       "      <th>내용</th>\n",
       "    </tr>\n",
       "  </thead>\n",
       "  <tbody>\n",
       "    <tr>\n",
       "      <th>0</th>\n",
       "      <td>2022-03-28 23:45</td>\n",
       "      <td>버밀리언 에너지, 4억7700만 캐나다 달러에 석유·천연 가스 탐사 회사 인수 버밀...</td>\n",
       "    </tr>\n",
       "    <tr>\n",
       "      <th>1</th>\n",
       "      <td>2022-03-28 23:42</td>\n",
       "      <td>파이퍼 샌들러, 비욘드 미트 투자의견 '비중축소'로 하향…\"펀더멘탈 약세\" 파이퍼 ...</td>\n",
       "    </tr>\n",
       "    <tr>\n",
       "      <th>2</th>\n",
       "      <td>2022-03-28 23:13</td>\n",
       "      <td>뉴욕증시, 긴축 경계·유가 하락에 혼조세로 출발 (뉴욕=연합뉴스) 윤영숙 연합인포맥...</td>\n",
       "    </tr>\n",
       "    <tr>\n",
       "      <th>3</th>\n",
       "      <td>2022-03-28 22:49</td>\n",
       "      <td>'주식분할 추진' 테슬라 급등·장단기 금리차에 주목 [뉴욕증시 나우] 여기는 미국 ...</td>\n",
       "    </tr>\n",
       "    <tr>\n",
       "      <th>4</th>\n",
       "      <td>2022-03-28 22:34</td>\n",
       "      <td>테슬라, 2년만에 또 주식분할 추진…주가는 다시 '천슬라' 회사측 \"주주총회 의결 ...</td>\n",
       "    </tr>\n",
       "    <tr>\n",
       "      <th>...</th>\n",
       "      <td>...</td>\n",
       "      <td>...</td>\n",
       "    </tr>\n",
       "    <tr>\n",
       "      <th>1058</th>\n",
       "      <td>2022-03-28 04:36</td>\n",
       "      <td>[주간 경제지표] 2022년 3월 25일자 0327주간경제지표[주간 경제지표] 20...</td>\n",
       "    </tr>\n",
       "    <tr>\n",
       "      <th>1059</th>\n",
       "      <td>2022-03-28 04:31</td>\n",
       "      <td>'절판 마케팅'에 백내장 실손보험금 지급 급증...당국 \"심사 더 깐깐히\" 올 1~...</td>\n",
       "    </tr>\n",
       "    <tr>\n",
       "      <th>1060</th>\n",
       "      <td>2022-03-28 00:35</td>\n",
       "      <td>[코스닥 주간메모] 3월 28일(월) ~ 3월 30일(수) [3월 28일(월)]◇공...</td>\n",
       "    </tr>\n",
       "    <tr>\n",
       "      <th>1061</th>\n",
       "      <td>2022-03-28 00:34</td>\n",
       "      <td>[유가증권 주간메모] 3월 28일(월) ~ 3월 30일(수) [3월 28일(월)]◇...</td>\n",
       "    </tr>\n",
       "    <tr>\n",
       "      <th>1062</th>\n",
       "      <td>2022-03-28 00:07</td>\n",
       "      <td>들썩이는 ‘방산주’…전쟁 끝나도 호재? 우크라 사태, 북한 도발 등 지정학 리스크↑...</td>\n",
       "    </tr>\n",
       "  </tbody>\n",
       "</table>\n",
       "<p>1063 rows × 2 columns</p>\n",
       "</div>"
      ],
      "text/plain": [
       "                    시간                                                 내용\n",
       "0     2022-03-28 23:45  버밀리언 에너지, 4억7700만 캐나다 달러에 석유·천연 가스 탐사 회사 인수 버밀...\n",
       "1     2022-03-28 23:42  파이퍼 샌들러, 비욘드 미트 투자의견 '비중축소'로 하향…\"펀더멘탈 약세\" 파이퍼 ...\n",
       "2     2022-03-28 23:13  뉴욕증시, 긴축 경계·유가 하락에 혼조세로 출발 (뉴욕=연합뉴스) 윤영숙 연합인포맥...\n",
       "3     2022-03-28 22:49  '주식분할 추진' 테슬라 급등·장단기 금리차에 주목 [뉴욕증시 나우] 여기는 미국 ...\n",
       "4     2022-03-28 22:34  테슬라, 2년만에 또 주식분할 추진…주가는 다시 '천슬라' 회사측 \"주주총회 의결 ...\n",
       "...                ...                                                ...\n",
       "1058  2022-03-28 04:36  [주간 경제지표] 2022년 3월 25일자 0327주간경제지표[주간 경제지표] 20...\n",
       "1059  2022-03-28 04:31  '절판 마케팅'에 백내장 실손보험금 지급 급증...당국 \"심사 더 깐깐히\" 올 1~...\n",
       "1060  2022-03-28 00:35  [코스닥 주간메모] 3월 28일(월) ~ 3월 30일(수) [3월 28일(월)]◇공...\n",
       "1061  2022-03-28 00:34  [유가증권 주간메모] 3월 28일(월) ~ 3월 30일(수) [3월 28일(월)]◇...\n",
       "1062  2022-03-28 00:07  들썩이는 ‘방산주’…전쟁 끝나도 호재? 우크라 사태, 북한 도발 등 지정학 리스크↑...\n",
       "\n",
       "[1063 rows x 2 columns]"
      ]
     },
     "metadata": {},
     "output_type": "display_data"
    }
   ],
   "source": [
    "df = pd.read_csv(\"./data/crawling/20220328_naver_finance_news.csv\",encoding='utf-8-sig')\n",
    "showmethe = df[['제목','본문']].apply(lambda x:' '.join(x.values.astype(str)), axis=1)\n",
    "df['내용'] = showmethe\n",
    "display(df[['시간','내용']])"
   ]
  },
  {
   "cell_type": "code",
   "execution_count": null,
   "id": "8c84678f",
   "metadata": {},
   "outputs": [],
   "source": [
    "if __name__ == '__main__' :\n",
    "    get_news()\n",
    "    extract_10keywords()"
   ]
  }
 ],
 "metadata": {
  "kernelspec": {
   "display_name": "Python 3 (ipykernel)",
   "language": "python",
   "name": "python3"
  },
  "language_info": {
   "codemirror_mode": {
    "name": "ipython",
    "version": 3
   },
   "file_extension": ".py",
   "mimetype": "text/x-python",
   "name": "python",
   "nbconvert_exporter": "python",
   "pygments_lexer": "ipython3",
   "version": "3.8.12"
  },
  "toc": {
   "base_numbering": 1,
   "nav_menu": {},
   "number_sections": true,
   "sideBar": true,
   "skip_h1_title": false,
   "title_cell": "Table of Contents",
   "title_sidebar": "Contents",
   "toc_cell": false,
   "toc_position": {},
   "toc_section_display": true,
   "toc_window_display": false
  },
  "varInspector": {
   "cols": {
    "lenName": 16,
    "lenType": 16,
    "lenVar": 40
   },
   "kernels_config": {
    "python": {
     "delete_cmd_postfix": "",
     "delete_cmd_prefix": "del ",
     "library": "var_list.py",
     "varRefreshCmd": "print(var_dic_list())"
    },
    "r": {
     "delete_cmd_postfix": ") ",
     "delete_cmd_prefix": "rm(",
     "library": "var_list.r",
     "varRefreshCmd": "cat(var_dic_list()) "
    }
   },
   "types_to_exclude": [
    "module",
    "function",
    "builtin_function_or_method",
    "instance",
    "_Feature"
   ],
   "window_display": false
  }
 },
 "nbformat": 4,
 "nbformat_minor": 5
}
