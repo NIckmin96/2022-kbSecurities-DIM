{
 "cells": [
  {
   "cell_type": "code",
   "execution_count": 2,
   "id": "70084e16",
   "metadata": {
    "ExecuteTime": {
     "end_time": "2022-03-25T15:52:52.405122Z",
     "start_time": "2022-03-25T15:52:52.384973Z"
    }
   },
   "outputs": [],
   "source": [
    "import crawling"
   ]
  },
  {
   "cell_type": "code",
   "execution_count": 3,
   "id": "5bc225e6",
   "metadata": {
    "ExecuteTime": {
     "end_time": "2022-03-25T15:52:56.569988Z",
     "start_time": "2022-03-25T15:52:56.565733Z"
    }
   },
   "outputs": [],
   "source": [
    "import keyword # word_df : 키워드10개 / word_n_article : 키워드&본문"
   ]
  },
  {
   "cell_type": "code",
   "execution_count": 4,
   "id": "bd1f9e56",
   "metadata": {
    "ExecuteTime": {
     "end_time": "2022-03-25T15:53:23.296901Z",
     "start_time": "2022-03-25T15:53:03.496722Z"
    },
    "scrolled": true
   },
   "outputs": [
    {
     "name": "stderr",
     "output_type": "stream",
     "text": [
      "100%|██████████| 2235/2235 [00:00<00:00, 6410.00it/s]\n"
     ]
    }
   ],
   "source": [
    "if __name__ == '__main__' : \n",
    "#     %run crawling\n",
    "    %run keyword"
   ]
  },
  {
   "cell_type": "code",
   "execution_count": 5,
   "id": "7ecb6291",
   "metadata": {
    "ExecuteTime": {
     "end_time": "2022-03-25T15:53:31.215655Z",
     "start_time": "2022-03-25T15:53:31.196217Z"
    },
    "scrolled": true
   },
   "outputs": [
    {
     "data": {
      "text/html": [
       "<div>\n",
       "<style scoped>\n",
       "    .dataframe tbody tr th:only-of-type {\n",
       "        vertical-align: middle;\n",
       "    }\n",
       "\n",
       "    .dataframe tbody tr th {\n",
       "        vertical-align: top;\n",
       "    }\n",
       "\n",
       "    .dataframe thead th {\n",
       "        text-align: right;\n",
       "    }\n",
       "</style>\n",
       "<table border=\"1\" class=\"dataframe\">\n",
       "  <thead>\n",
       "    <tr style=\"text-align: right;\">\n",
       "      <th></th>\n",
       "      <th>word</th>\n",
       "      <th>count</th>\n",
       "    </tr>\n",
       "  </thead>\n",
       "  <tbody>\n",
       "    <tr>\n",
       "      <th>0</th>\n",
       "      <td>삼성</td>\n",
       "      <td>77</td>\n",
       "    </tr>\n",
       "    <tr>\n",
       "      <th>1</th>\n",
       "      <td>안랩</td>\n",
       "      <td>39</td>\n",
       "    </tr>\n",
       "    <tr>\n",
       "      <th>2</th>\n",
       "      <td>롯데</td>\n",
       "      <td>38</td>\n",
       "    </tr>\n",
       "    <tr>\n",
       "      <th>3</th>\n",
       "      <td>블록딜</td>\n",
       "      <td>32</td>\n",
       "    </tr>\n",
       "    <tr>\n",
       "      <th>4</th>\n",
       "      <td>두산</td>\n",
       "      <td>24</td>\n",
       "    </tr>\n",
       "    <tr>\n",
       "      <th>5</th>\n",
       "      <td>미래에셋</td>\n",
       "      <td>21</td>\n",
       "    </tr>\n",
       "    <tr>\n",
       "      <th>6</th>\n",
       "      <td>박용만</td>\n",
       "      <td>17</td>\n",
       "    </tr>\n",
       "    <tr>\n",
       "      <th>7</th>\n",
       "      <td>최현</td>\n",
       "      <td>16</td>\n",
       "    </tr>\n",
       "    <tr>\n",
       "      <th>8</th>\n",
       "      <td>푸드</td>\n",
       "      <td>16</td>\n",
       "    </tr>\n",
       "    <tr>\n",
       "      <th>9</th>\n",
       "      <td>제과</td>\n",
       "      <td>15</td>\n",
       "    </tr>\n",
       "  </tbody>\n",
       "</table>\n",
       "</div>"
      ],
      "text/plain": [
       "   word  count\n",
       "0    삼성     77\n",
       "1    안랩     39\n",
       "2    롯데     38\n",
       "3   블록딜     32\n",
       "4    두산     24\n",
       "5  미래에셋     21\n",
       "6   박용만     17\n",
       "7    최현     16\n",
       "8    푸드     16\n",
       "9    제과     15"
      ]
     },
     "execution_count": 5,
     "metadata": {},
     "output_type": "execute_result"
    }
   ],
   "source": [
    "word_df # 결과 res변수에 저장되게 설정돼있음\n",
    "\n",
    "# 하나의 파일에 누적 저장하는 형식으로 고안해보자"
   ]
  },
  {
   "cell_type": "code",
   "execution_count": 6,
   "id": "027b28a3",
   "metadata": {
    "ExecuteTime": {
     "end_time": "2022-03-25T15:53:37.133086Z",
     "start_time": "2022-03-25T15:53:37.118505Z"
    }
   },
   "outputs": [
    {
     "data": {
      "text/html": [
       "<div>\n",
       "<style scoped>\n",
       "    .dataframe tbody tr th:only-of-type {\n",
       "        vertical-align: middle;\n",
       "    }\n",
       "\n",
       "    .dataframe tbody tr th {\n",
       "        vertical-align: top;\n",
       "    }\n",
       "\n",
       "    .dataframe thead th {\n",
       "        text-align: right;\n",
       "    }\n",
       "</style>\n",
       "<table border=\"1\" class=\"dataframe\">\n",
       "  <thead>\n",
       "    <tr style=\"text-align: right;\">\n",
       "      <th></th>\n",
       "      <th>word</th>\n",
       "      <th>text</th>\n",
       "      <th>index</th>\n",
       "    </tr>\n",
       "  </thead>\n",
       "  <tbody>\n",
       "    <tr>\n",
       "      <th>0</th>\n",
       "      <td>삼성</td>\n",
       "      <td>삼성家, 전자 지분 1조3천억'블록딜'</td>\n",
       "      <td>45</td>\n",
       "    </tr>\n",
       "    <tr>\n",
       "      <th>1</th>\n",
       "      <td>삼성</td>\n",
       "      <td>삼성증권 '美주식 주간거래' 한달만에 5000억 돌파</td>\n",
       "      <td>63</td>\n",
       "    </tr>\n",
       "    <tr>\n",
       "      <th>2</th>\n",
       "      <td>삼성</td>\n",
       "      <td>삼성물산, 삼성전자와 8406억원 규모 평택사업장 공사 수주</td>\n",
       "      <td>85</td>\n",
       "    </tr>\n",
       "    <tr>\n",
       "      <th>3</th>\n",
       "      <td>삼성</td>\n",
       "      <td>삼성증권, 美주식 주간 거래 서비스 인기…한달새 5000억 돌파</td>\n",
       "      <td>143</td>\n",
       "    </tr>\n",
       "    <tr>\n",
       "      <th>4</th>\n",
       "      <td>삼성</td>\n",
       "      <td>삼성전자 '6만전자'로 전락…12조 상속세 때문에 1조 넘게 블록딜 처분</td>\n",
       "      <td>171</td>\n",
       "    </tr>\n",
       "    <tr>\n",
       "      <th>...</th>\n",
       "      <td>...</td>\n",
       "      <td>...</td>\n",
       "      <td>...</td>\n",
       "    </tr>\n",
       "    <tr>\n",
       "      <th>272</th>\n",
       "      <td>제과</td>\n",
       "      <td>[특징주] 롯데제과·롯데푸드 합병 결정에 동반 강세</td>\n",
       "      <td>803</td>\n",
       "    </tr>\n",
       "    <tr>\n",
       "      <th>273</th>\n",
       "      <td>제과</td>\n",
       "      <td>[특징주] 롯데제과·롯데푸드 합병에 양사 주가 강세</td>\n",
       "      <td>809</td>\n",
       "    </tr>\n",
       "    <tr>\n",
       "      <th>274</th>\n",
       "      <td>제과</td>\n",
       "      <td>[특징주] 롯데제과, 롯데푸드와 합병 소식에 4%↑</td>\n",
       "      <td>819</td>\n",
       "    </tr>\n",
       "    <tr>\n",
       "      <th>275</th>\n",
       "      <td>제과</td>\n",
       "      <td>[특징주]롯데제과·푸드 합병 결정에 강세</td>\n",
       "      <td>827</td>\n",
       "    </tr>\n",
       "    <tr>\n",
       "      <th>276</th>\n",
       "      <td>제과</td>\n",
       "      <td>[클릭 e종목]롯데제과-롯데푸드 합병 시너지는…비용 절감·사업 강화</td>\n",
       "      <td>968</td>\n",
       "    </tr>\n",
       "  </tbody>\n",
       "</table>\n",
       "<p>277 rows × 3 columns</p>\n",
       "</div>"
      ],
      "text/plain": [
       "    word                                      text index\n",
       "0     삼성                     삼성家, 전자 지분 1조3천억'블록딜'    45\n",
       "1     삼성             삼성증권 '美주식 주간거래' 한달만에 5000억 돌파    63\n",
       "2     삼성         삼성물산, 삼성전자와 8406억원 규모 평택사업장 공사 수주    85\n",
       "3     삼성       삼성증권, 美주식 주간 거래 서비스 인기…한달새 5000억 돌파   143\n",
       "4     삼성  삼성전자 '6만전자'로 전락…12조 상속세 때문에 1조 넘게 블록딜 처분   171\n",
       "..   ...                                       ...   ...\n",
       "272   제과              [특징주] 롯데제과·롯데푸드 합병 결정에 동반 강세   803\n",
       "273   제과              [특징주] 롯데제과·롯데푸드 합병에 양사 주가 강세   809\n",
       "274   제과              [특징주] 롯데제과, 롯데푸드와 합병 소식에 4%↑   819\n",
       "275   제과                    [특징주]롯데제과·푸드 합병 결정에 강세   827\n",
       "276   제과     [클릭 e종목]롯데제과-롯데푸드 합병 시너지는…비용 절감·사업 강화   968\n",
       "\n",
       "[277 rows x 3 columns]"
      ]
     },
     "execution_count": 6,
     "metadata": {},
     "output_type": "execute_result"
    }
   ],
   "source": [
    "word_n_article"
   ]
  },
  {
   "cell_type": "code",
   "execution_count": 11,
   "id": "08f1358f",
   "metadata": {},
   "outputs": [],
   "source": [
    "word_df['date'] = target\n",
    "word_df['day'] = target_day\n",
    "word_df = word_df[['date','day','word','count']]\n",
    "word_df.to_csv(f'./data/rank/{target}_rank.csv', encoding='utf-8-sig', index = False)\n",
    "\n",
    "word_n_article['date']= target\n",
    "word_n_article['day'] = target_day\n",
    "word_n_article[['date','day','word','text']].to_csv(f'./data/input/{target}_input.csv', encoding='utf-8-sig', index = False)"
   ]
  },
  {
   "cell_type": "code",
   "execution_count": 10,
   "id": "4e9b2078",
   "metadata": {},
   "outputs": [
    {
     "data": {
      "text/html": [
       "<div>\n",
       "<style scoped>\n",
       "    .dataframe tbody tr th:only-of-type {\n",
       "        vertical-align: middle;\n",
       "    }\n",
       "\n",
       "    .dataframe tbody tr th {\n",
       "        vertical-align: top;\n",
       "    }\n",
       "\n",
       "    .dataframe thead th {\n",
       "        text-align: right;\n",
       "    }\n",
       "</style>\n",
       "<table border=\"1\" class=\"dataframe\">\n",
       "  <thead>\n",
       "    <tr style=\"text-align: right;\">\n",
       "      <th></th>\n",
       "      <th>date</th>\n",
       "      <th>day</th>\n",
       "      <th>word</th>\n",
       "      <th>count</th>\n",
       "    </tr>\n",
       "  </thead>\n",
       "  <tbody>\n",
       "    <tr>\n",
       "      <th>0</th>\n",
       "      <td>20220325-20220327</td>\n",
       "      <td>금,토,일</td>\n",
       "      <td>삼성</td>\n",
       "      <td>77</td>\n",
       "    </tr>\n",
       "    <tr>\n",
       "      <th>1</th>\n",
       "      <td>20220325-20220327</td>\n",
       "      <td>금,토,일</td>\n",
       "      <td>안랩</td>\n",
       "      <td>39</td>\n",
       "    </tr>\n",
       "    <tr>\n",
       "      <th>2</th>\n",
       "      <td>20220325-20220327</td>\n",
       "      <td>금,토,일</td>\n",
       "      <td>롯데</td>\n",
       "      <td>38</td>\n",
       "    </tr>\n",
       "    <tr>\n",
       "      <th>3</th>\n",
       "      <td>20220325-20220327</td>\n",
       "      <td>금,토,일</td>\n",
       "      <td>블록딜</td>\n",
       "      <td>32</td>\n",
       "    </tr>\n",
       "    <tr>\n",
       "      <th>4</th>\n",
       "      <td>20220325-20220327</td>\n",
       "      <td>금,토,일</td>\n",
       "      <td>두산</td>\n",
       "      <td>24</td>\n",
       "    </tr>\n",
       "    <tr>\n",
       "      <th>5</th>\n",
       "      <td>20220325-20220327</td>\n",
       "      <td>금,토,일</td>\n",
       "      <td>미래에셋</td>\n",
       "      <td>21</td>\n",
       "    </tr>\n",
       "    <tr>\n",
       "      <th>6</th>\n",
       "      <td>20220325-20220327</td>\n",
       "      <td>금,토,일</td>\n",
       "      <td>박용만</td>\n",
       "      <td>17</td>\n",
       "    </tr>\n",
       "    <tr>\n",
       "      <th>7</th>\n",
       "      <td>20220325-20220327</td>\n",
       "      <td>금,토,일</td>\n",
       "      <td>최현</td>\n",
       "      <td>16</td>\n",
       "    </tr>\n",
       "    <tr>\n",
       "      <th>8</th>\n",
       "      <td>20220325-20220327</td>\n",
       "      <td>금,토,일</td>\n",
       "      <td>푸드</td>\n",
       "      <td>16</td>\n",
       "    </tr>\n",
       "    <tr>\n",
       "      <th>9</th>\n",
       "      <td>20220325-20220327</td>\n",
       "      <td>금,토,일</td>\n",
       "      <td>제과</td>\n",
       "      <td>15</td>\n",
       "    </tr>\n",
       "  </tbody>\n",
       "</table>\n",
       "</div>"
      ],
      "text/plain": [
       "                date    day  word  count\n",
       "0  20220325-20220327  금,토,일    삼성     77\n",
       "1  20220325-20220327  금,토,일    안랩     39\n",
       "2  20220325-20220327  금,토,일    롯데     38\n",
       "3  20220325-20220327  금,토,일   블록딜     32\n",
       "4  20220325-20220327  금,토,일    두산     24\n",
       "5  20220325-20220327  금,토,일  미래에셋     21\n",
       "6  20220325-20220327  금,토,일   박용만     17\n",
       "7  20220325-20220327  금,토,일    최현     16\n",
       "8  20220325-20220327  금,토,일    푸드     16\n",
       "9  20220325-20220327  금,토,일    제과     15"
      ]
     },
     "execution_count": 10,
     "metadata": {},
     "output_type": "execute_result"
    }
   ],
   "source": [
    "word_df"
   ]
  },
  {
   "cell_type": "code",
   "execution_count": null,
   "id": "70209b92",
   "metadata": {},
   "outputs": [],
   "source": []
  }
 ],
 "metadata": {
  "kernelspec": {
   "display_name": "kobert",
   "language": "python",
   "name": "kobert"
  },
  "language_info": {
   "codemirror_mode": {
    "name": "ipython",
    "version": 3
   },
   "file_extension": ".py",
   "mimetype": "text/x-python",
   "name": "python",
   "nbconvert_exporter": "python",
   "pygments_lexer": "ipython3",
   "version": "3.8.12"
  },
  "toc": {
   "base_numbering": 1,
   "nav_menu": {},
   "number_sections": true,
   "sideBar": true,
   "skip_h1_title": false,
   "title_cell": "Table of Contents",
   "title_sidebar": "Contents",
   "toc_cell": false,
   "toc_position": {},
   "toc_section_display": true,
   "toc_window_display": false
  },
  "varInspector": {
   "cols": {
    "lenName": 16,
    "lenType": 16,
    "lenVar": 40
   },
   "kernels_config": {
    "python": {
     "delete_cmd_postfix": "",
     "delete_cmd_prefix": "del ",
     "library": "var_list.py",
     "varRefreshCmd": "print(var_dic_list())"
    },
    "r": {
     "delete_cmd_postfix": ") ",
     "delete_cmd_prefix": "rm(",
     "library": "var_list.r",
     "varRefreshCmd": "cat(var_dic_list()) "
    }
   },
   "types_to_exclude": [
    "module",
    "function",
    "builtin_function_or_method",
    "instance",
    "_Feature"
   ],
   "window_display": false
  }
 },
 "nbformat": 4,
 "nbformat_minor": 5
}
