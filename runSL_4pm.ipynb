{
 "cells": [
  {
   "cell_type": "code",
   "execution_count": 1,
   "id": "6cc611ba",
   "metadata": {},
   "outputs": [],
   "source": [
    "import time\n",
    "start = time.time()"
   ]
  },
  {
   "cell_type": "code",
   "execution_count": 2,
   "id": "5f071008",
   "metadata": {},
   "outputs": [],
   "source": [
    "from pycode.firebase import *"
   ]
  },
  {
   "cell_type": "code",
   "execution_count": 3,
   "id": "53b66a82",
   "metadata": {},
   "outputs": [
    {
     "name": "stdout",
     "output_type": "stream",
     "text": [
      "===== Running Time :  0.45178301334381105  minutes =====\n"
     ]
    }
   ],
   "source": [
    "if __name__ == '__main__' :\n",
    "    checked_user_update() #4:00pm에 실행\n",
    "    end = time.time()\n",
    "    print('===== Running Time : ', (end - start) / 60, ' minutes =====')"
   ]
  }
 ],
 "metadata": {
  "kernelspec": {
   "display_name": "kobert",
   "language": "python",
   "name": "kobert"
  },
  "language_info": {
   "codemirror_mode": {
    "name": "ipython",
    "version": 3
   },
   "file_extension": ".py",
   "mimetype": "text/x-python",
   "name": "python",
   "nbconvert_exporter": "python",
   "pygments_lexer": "ipython3",
   "version": "3.8.12"
  }
 },
 "nbformat": 4,
 "nbformat_minor": 5
}
