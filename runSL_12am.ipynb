{
 "cells": [
  {
   "cell_type": "code",
   "execution_count": null,
   "id": "8884f13c",
   "metadata": {},
   "outputs": [],
   "source": [
    "import time\n",
    "start = time.time()"
   ]
  },
  {
   "cell_type": "code",
   "execution_count": null,
   "id": "b1d7c02c",
   "metadata": {},
   "outputs": [],
   "source": [
    "from pycode.crawling import *\n",
    "#from pycode.input import *\n",
    "#from pycode.result import *\n",
    "from pycode.final import *\n",
    "from pycode.firebase import *"
   ]
  },
  {
   "cell_type": "code",
   "execution_count": null,
   "id": "d35afea7",
   "metadata": {},
   "outputs": [],
   "source": [
    "#12:00am에 실행\n",
    "def runStockLuck():\n",
    "    get_news()\n",
    "    #extract_10keywords()\n",
    "    get_output('cuda:0') #'cpu' or 'cuda:0'\n",
    "    get_result()\n",
    "    get_answer()\n",
    "    todaystock_update()\n",
    "    ranking_update()\n",
    "    checked_service_update()"
   ]
  },
  {
   "cell_type": "code",
   "execution_count": null,
   "id": "531f3238",
   "metadata": {},
   "outputs": [],
   "source": [
    "if __name__ == '__main__' :\n",
    "    runStockLuck() #12:00am에 실행\n",
    "    end = time.time()\n",
    "    print('===== Running Time : ', (end - start) / 60, ' minutes =====')"
   ]
  }
 ],
 "metadata": {
  "interpreter": {
   "hash": "b531eb16dbfcb688b79eb5994c506a5d6b127debb37dec43e3e73a428e160f28"
  },
  "kernelspec": {
   "display_name": "kobert",
   "language": "python",
   "name": "python3"
  },
  "language_info": {
   "codemirror_mode": {
    "name": "ipython",
    "version": 3
   },
   "file_extension": ".py",
   "mimetype": "text/x-python",
   "name": "python",
   "nbconvert_exporter": "python",
   "pygments_lexer": "ipython3",
   "version": "3.8.12"
  },
  "toc": {
   "base_numbering": 1,
   "nav_menu": {},
   "number_sections": true,
   "sideBar": true,
   "skip_h1_title": false,
   "title_cell": "Table of Contents",
   "title_sidebar": "Contents",
   "toc_cell": false,
   "toc_position": {},
   "toc_section_display": true,
   "toc_window_display": false
  },
  "varInspector": {
   "cols": {
    "lenName": 16,
    "lenType": 16,
    "lenVar": 40
   },
   "kernels_config": {
    "python": {
     "delete_cmd_postfix": "",
     "delete_cmd_prefix": "del ",
     "library": "var_list.py",
     "varRefreshCmd": "print(var_dic_list())"
    },
    "r": {
     "delete_cmd_postfix": ") ",
     "delete_cmd_prefix": "rm(",
     "library": "var_list.r",
     "varRefreshCmd": "cat(var_dic_list()) "
    }
   },
   "types_to_exclude": [
    "module",
    "function",
    "builtin_function_or_method",
    "instance",
    "_Feature"
   ],
   "window_display": false
  }
 },
 "nbformat": 4,
 "nbformat_minor": 5
}
