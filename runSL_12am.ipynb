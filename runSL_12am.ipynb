{
 "cells": [
  {
   "cell_type": "code",
   "execution_count": 1,
   "id": "8884f13c",
   "metadata": {},
   "outputs": [],
   "source": [
    "import time\n",
    "start = time.time()"
   ]
  },
  {
   "cell_type": "code",
   "execution_count": 2,
   "id": "b1d7c02c",
   "metadata": {},
   "outputs": [],
   "source": [
    "from pycode.crawling import *\n",
    "from pycode.input import *\n",
    "from pycode.result import *\n",
    "from pycode.final import *"
   ]
  },
  {
   "cell_type": "code",
   "execution_count": 3,
   "id": "d35afea7",
   "metadata": {},
   "outputs": [],
   "source": [
    "#12:00am에 실행\n",
    "def runStockLuck():\n",
    "    get_news()\n",
    "    extract_10keywords()\n",
    "    get_output('cuda:0') # 'cpu' or 'cuda:0'\n",
    "    get_result()\n",
    "    get_answer()"
   ]
  },
  {
   "cell_type": "code",
   "execution_count": 4,
   "id": "f2fae5b4",
   "metadata": {},
   "outputs": [],
   "source": [
    "# runStockLuck()이 끝나고 실행\n",
    "def updateFirebase():\n",
    "    todaystock_update()\n",
    "    ranking_update()\n",
    "    checked_service_update()\n",
    "    overall_update()\n",
    "    loadUserToto()"
   ]
  },
  {
   "cell_type": "code",
   "execution_count": 5,
   "id": "531f3238",
   "metadata": {},
   "outputs": [
    {
     "name": "stdout",
     "output_type": "stream",
     "text": [
      "using cached model. /home/kongminseok/hdd/2022_kbSecurities_DIM/.cache/kobert_v1.zip\n",
      "using cached model. /home/kongminseok/hdd/2022_kbSecurities_DIM/.cache/kobert_news_wiki_ko_cased-1087f8699e.spiece\n",
      "using cached model. /home/kongminseok/hdd/2022_kbSecurities_DIM/.cache/kobert_news_wiki_ko_cased-1087f8699e.spiece\n"
     ]
    },
    {
     "data": {
      "application/vnd.jupyter.widget-view+json": {
       "model_id": "54ccbb5748d5421b9847b403fafebfab",
       "version_major": 2,
       "version_minor": 0
      },
      "text/plain": [
       "  0%|          | 0/14 [00:00<?, ?it/s]"
      ]
     },
     "metadata": {},
     "output_type": "display_data"
    },
    {
     "data": {
      "text/html": [
       "<div>\n",
       "<style scoped>\n",
       "    .dataframe tbody tr th:only-of-type {\n",
       "        vertical-align: middle;\n",
       "    }\n",
       "\n",
       "    .dataframe tbody tr th {\n",
       "        vertical-align: top;\n",
       "    }\n",
       "\n",
       "    .dataframe thead th {\n",
       "        text-align: right;\n",
       "    }\n",
       "</style>\n",
       "<table border=\"1\" class=\"dataframe\">\n",
       "  <thead>\n",
       "    <tr style=\"text-align: right;\">\n",
       "      <th></th>\n",
       "      <th>date</th>\n",
       "      <th>day</th>\n",
       "      <th>word</th>\n",
       "      <th>score</th>\n",
       "      <th>expect</th>\n",
       "      <th>change</th>\n",
       "      <th>service</th>\n",
       "    </tr>\n",
       "  </thead>\n",
       "  <tbody>\n",
       "    <tr>\n",
       "      <th>0</th>\n",
       "      <td>20220330</td>\n",
       "      <td>수</td>\n",
       "      <td>현대차</td>\n",
       "      <td>5</td>\n",
       "      <td>up</td>\n",
       "      <td>up</td>\n",
       "      <td>⭕</td>\n",
       "    </tr>\n",
       "    <tr>\n",
       "      <th>1</th>\n",
       "      <td>20220330</td>\n",
       "      <td>수</td>\n",
       "      <td>한화</td>\n",
       "      <td>2</td>\n",
       "      <td>up</td>\n",
       "      <td>up</td>\n",
       "      <td>⭕</td>\n",
       "    </tr>\n",
       "    <tr>\n",
       "      <th>2</th>\n",
       "      <td>20220330</td>\n",
       "      <td>수</td>\n",
       "      <td>베셀</td>\n",
       "      <td>2</td>\n",
       "      <td>up</td>\n",
       "      <td>up</td>\n",
       "      <td>⭕</td>\n",
       "    </tr>\n",
       "    <tr>\n",
       "      <th>3</th>\n",
       "      <td>20220330</td>\n",
       "      <td>수</td>\n",
       "      <td>카카오</td>\n",
       "      <td>1</td>\n",
       "      <td>up</td>\n",
       "      <td>up</td>\n",
       "      <td>⭕</td>\n",
       "    </tr>\n",
       "    <tr>\n",
       "      <th>4</th>\n",
       "      <td>20220330</td>\n",
       "      <td>수</td>\n",
       "      <td>두산</td>\n",
       "      <td>1</td>\n",
       "      <td>up</td>\n",
       "      <td>stay</td>\n",
       "      <td>❌</td>\n",
       "    </tr>\n",
       "    <tr>\n",
       "      <th>5</th>\n",
       "      <td>20220330</td>\n",
       "      <td>수</td>\n",
       "      <td>쌍용차</td>\n",
       "      <td>0</td>\n",
       "      <td>stay</td>\n",
       "      <td>stay</td>\n",
       "      <td>⭕</td>\n",
       "    </tr>\n",
       "    <tr>\n",
       "      <th>6</th>\n",
       "      <td>20220330</td>\n",
       "      <td>수</td>\n",
       "      <td>배럴</td>\n",
       "      <td>0</td>\n",
       "      <td>stay</td>\n",
       "      <td>up</td>\n",
       "      <td>❌</td>\n",
       "    </tr>\n",
       "    <tr>\n",
       "      <th>7</th>\n",
       "      <td>20220330</td>\n",
       "      <td>수</td>\n",
       "      <td>신흥</td>\n",
       "      <td>0</td>\n",
       "      <td>stay</td>\n",
       "      <td>down</td>\n",
       "      <td>❌</td>\n",
       "    </tr>\n",
       "    <tr>\n",
       "      <th>8</th>\n",
       "      <td>20220330</td>\n",
       "      <td>수</td>\n",
       "      <td>덴티움</td>\n",
       "      <td>0</td>\n",
       "      <td>stay</td>\n",
       "      <td>down</td>\n",
       "      <td>❌</td>\n",
       "    </tr>\n",
       "    <tr>\n",
       "      <th>9</th>\n",
       "      <td>20220330</td>\n",
       "      <td>수</td>\n",
       "      <td>안랩</td>\n",
       "      <td>-5</td>\n",
       "      <td>down</td>\n",
       "      <td>down</td>\n",
       "      <td>⭕</td>\n",
       "    </tr>\n",
       "  </tbody>\n",
       "</table>\n",
       "</div>"
      ],
      "text/plain": [
       "       date day word  score expect change service\n",
       "0  20220330   수  현대차      5     up     up       ⭕\n",
       "1  20220330   수   한화      2     up     up       ⭕\n",
       "2  20220330   수   베셀      2     up     up       ⭕\n",
       "3  20220330   수  카카오      1     up     up       ⭕\n",
       "4  20220330   수   두산      1     up   stay       ❌\n",
       "5  20220330   수  쌍용차      0   stay   stay       ⭕\n",
       "6  20220330   수   배럴      0   stay     up       ❌\n",
       "7  20220330   수   신흥      0   stay   down       ❌\n",
       "8  20220330   수  덴티움      0   stay   down       ❌\n",
       "9  20220330   수   안랩     -5   down   down       ⭕"
      ]
     },
     "metadata": {},
     "output_type": "display_data"
    },
    {
     "data": {
      "text/html": [
       "<div>\n",
       "<style scoped>\n",
       "    .dataframe tbody tr th:only-of-type {\n",
       "        vertical-align: middle;\n",
       "    }\n",
       "\n",
       "    .dataframe tbody tr th {\n",
       "        vertical-align: top;\n",
       "    }\n",
       "\n",
       "    .dataframe thead th {\n",
       "        text-align: right;\n",
       "    }\n",
       "</style>\n",
       "<table border=\"1\" class=\"dataframe\">\n",
       "  <thead>\n",
       "    <tr style=\"text-align: right;\">\n",
       "      <th></th>\n",
       "      <th>date</th>\n",
       "      <th>day</th>\n",
       "      <th>id</th>\n",
       "      <th>user_expect</th>\n",
       "      <th>user_answer</th>\n",
       "    </tr>\n",
       "  </thead>\n",
       "  <tbody>\n",
       "    <tr>\n",
       "      <th>0</th>\n",
       "      <td>20220330</td>\n",
       "      <td>수</td>\n",
       "      <td>20180590</td>\n",
       "      <td>[up, down, down, down, up, up, down, down, dow...</td>\n",
       "      <td>[⭕, ❌, ❌, ❌, ⭕, ⭕, ❌, ❌, ❌, ❌]</td>\n",
       "    </tr>\n",
       "    <tr>\n",
       "      <th>1</th>\n",
       "      <td>20220330</td>\n",
       "      <td>수</td>\n",
       "      <td>23199330</td>\n",
       "      <td>[up, down, down, up, down, up, up, down, down,...</td>\n",
       "      <td>[⭕, ❌, ❌, ⭕, ❌, ⭕, ⭕, ❌, ❌, ⭕]</td>\n",
       "    </tr>\n",
       "    <tr>\n",
       "      <th>2</th>\n",
       "      <td>20220330</td>\n",
       "      <td>수</td>\n",
       "      <td>31313131</td>\n",
       "      <td>[up, down, down, up, up, up, down, down, down,...</td>\n",
       "      <td>[⭕, ❌, ❌, ⭕, ⭕, ⭕, ❌, ❌, ❌, ⭕]</td>\n",
       "    </tr>\n",
       "  </tbody>\n",
       "</table>\n",
       "</div>"
      ],
      "text/plain": [
       "       date day        id                                        user_expect  \\\n",
       "0  20220330   수  20180590  [up, down, down, down, up, up, down, down, dow...   \n",
       "1  20220330   수  23199330  [up, down, down, up, down, up, up, down, down,...   \n",
       "2  20220330   수  31313131  [up, down, down, up, up, up, down, down, down,...   \n",
       "\n",
       "                      user_answer  \n",
       "0  [⭕, ❌, ❌, ❌, ⭕, ⭕, ❌, ❌, ❌, ❌]  \n",
       "1  [⭕, ❌, ❌, ⭕, ❌, ⭕, ⭕, ❌, ❌, ⭕]  \n",
       "2  [⭕, ❌, ❌, ⭕, ⭕, ⭕, ❌, ❌, ❌, ⭕]  "
      ]
     },
     "metadata": {},
     "output_type": "display_data"
    },
    {
     "name": "stdout",
     "output_type": "stream",
     "text": [
      "===== Running Time :  0.399929932753245  minutes =====\n"
     ]
    }
   ],
   "source": [
    "if __name__ == '__main__' :\n",
    "    runStockLuck() #12:00am에 실행\n",
    "    from pycode.firebase import * # runStockLuck()이 끝나고 실행가능\n",
    "    updateFirebase() # runStockLuck()이 끝나고 실행가능\n",
    "    end = time.time()\n",
    "    print('===== Running Time : ', (end - start) / 60, ' minutes =====')"
   ]
  },
  {
   "cell_type": "code",
   "execution_count": null,
   "id": "e3666351",
   "metadata": {},
   "outputs": [],
   "source": []
  }
 ],
 "metadata": {
  "kernelspec": {
   "display_name": "kobert",
   "language": "python",
   "name": "kobert"
  },
  "language_info": {
   "codemirror_mode": {
    "name": "ipython",
    "version": 3
   },
   "file_extension": ".py",
   "mimetype": "text/x-python",
   "name": "python",
   "nbconvert_exporter": "python",
   "pygments_lexer": "ipython3",
   "version": "3.8.12"
  },
  "toc": {
   "base_numbering": 1,
   "nav_menu": {},
   "number_sections": true,
   "sideBar": true,
   "skip_h1_title": false,
   "title_cell": "Table of Contents",
   "title_sidebar": "Contents",
   "toc_cell": false,
   "toc_position": {},
   "toc_section_display": true,
   "toc_window_display": false
  },
  "varInspector": {
   "cols": {
    "lenName": 16,
    "lenType": 16,
    "lenVar": 40
   },
   "kernels_config": {
    "python": {
     "delete_cmd_postfix": "",
     "delete_cmd_prefix": "del ",
     "library": "var_list.py",
     "varRefreshCmd": "print(var_dic_list())"
    },
    "r": {
     "delete_cmd_postfix": ") ",
     "delete_cmd_prefix": "rm(",
     "library": "var_list.r",
     "varRefreshCmd": "cat(var_dic_list()) "
    }
   },
   "types_to_exclude": [
    "module",
    "function",
    "builtin_function_or_method",
    "instance",
    "_Feature"
   ],
   "window_display": false
  }
 },
 "nbformat": 4,
 "nbformat_minor": 5
}
