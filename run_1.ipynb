{
 "cells": [
  {
   "cell_type": "code",
   "execution_count": null,
   "id": "70084e16",
   "metadata": {
    "ExecuteTime": {
     "end_time": "2022-03-28T09:54:31.239521Z",
     "start_time": "2022-03-28T09:54:31.234651Z"
    }
   },
   "outputs": [],
   "source": [
    "# import crawling"
   ]
  },
  {
   "cell_type": "code",
   "execution_count": 1,
   "id": "a4054c4b",
   "metadata": {
    "ExecuteTime": {
     "end_time": "2022-03-28T10:53:53.848280Z",
     "start_time": "2022-03-28T10:53:45.450651Z"
    }
   },
   "outputs": [],
   "source": [
    "import keyword2"
   ]
  },
  {
   "cell_type": "code",
   "execution_count": null,
   "id": "92ec94fc",
   "metadata": {
    "ExecuteTime": {
     "end_time": "2022-03-28T10:17:48.072696Z",
     "start_time": "2022-03-28T10:05:36.223713Z"
    }
   },
   "outputs": [],
   "source": [
    "import w2v"
   ]
  },
  {
   "cell_type": "code",
   "execution_count": 2,
   "id": "6332fb85",
   "metadata": {
    "ExecuteTime": {
     "end_time": "2022-03-28T10:53:53.905566Z",
     "start_time": "2022-03-28T10:53:53.902414Z"
    }
   },
   "outputs": [],
   "source": [
    "import pandas as pd"
   ]
  },
  {
   "cell_type": "code",
   "execution_count": 3,
   "id": "37334ec5",
   "metadata": {
    "ExecuteTime": {
     "end_time": "2022-03-28T10:54:02.802690Z",
     "start_time": "2022-03-28T10:53:54.043048Z"
    }
   },
   "outputs": [
    {
     "name": "stderr",
     "output_type": "stream",
     "text": [
      "100%|█████████████████████████████████████| 2256/2256 [00:00<00:00, 4982.26it/s]\n"
     ]
    },
    {
     "name": "stdout",
     "output_type": "stream",
     "text": [
      "keywords have been extracted!\n",
      "articles have been extracted and saved!\n"
     ]
    }
   ],
   "source": [
    "keyword2.extract_10keywords() # csv로 저장"
   ]
  },
  {
   "cell_type": "code",
   "execution_count": null,
   "id": "36ba21bf",
   "metadata": {
    "ExecuteTime": {
     "end_time": "2022-03-28T10:48:27.237875Z",
     "start_time": "2022-03-28T10:48:27.227488Z"
    }
   },
   "outputs": [],
   "source": [
    "word_df = pd.read_csv('./data/word_df.csv') # keyword 추출 결과물\n",
    "keyword_0to10 = word_df['word']"
   ]
  },
  {
   "cell_type": "code",
   "execution_count": null,
   "id": "bd1f9e56",
   "metadata": {
    "ExecuteTime": {
     "end_time": "2022-03-28T10:48:28.791224Z",
     "start_time": "2022-03-28T10:48:28.730225Z"
    },
    "scrolled": true
   },
   "outputs": [],
   "source": [
    "stock_df = pd.read_csv('./data/w2v_result.csv')\n",
    "stock_lst = stock_df['stock']\n",
    "keyword2.find_text_from_word(stock_lst) # 키워드 관련 기사 추출"
   ]
  },
  {
   "cell_type": "code",
   "execution_count": null,
   "id": "10474b1b",
   "metadata": {
    "ExecuteTime": {
     "end_time": "2022-03-28T10:05:05.712287Z",
     "start_time": "2022-03-28T10:05:05.712252Z"
    }
   },
   "outputs": [],
   "source": [
    "# w2v.model.save('word2vec.model')"
   ]
  },
  {
   "cell_type": "code",
   "execution_count": null,
   "id": "365537ff",
   "metadata": {},
   "outputs": [],
   "source": []
  }
 ],
 "metadata": {
  "kernelspec": {
   "display_name": "Python 3 (ipykernel)",
   "language": "python",
   "name": "python3"
  },
  "language_info": {
   "codemirror_mode": {
    "name": "ipython",
    "version": 3
   },
   "file_extension": ".py",
   "mimetype": "text/x-python",
   "name": "python",
   "nbconvert_exporter": "python",
   "pygments_lexer": "ipython3",
   "version": "3.8.12"
  },
  "toc": {
   "base_numbering": 1,
   "nav_menu": {},
   "number_sections": true,
   "sideBar": true,
   "skip_h1_title": false,
   "title_cell": "Table of Contents",
   "title_sidebar": "Contents",
   "toc_cell": false,
   "toc_position": {},
   "toc_section_display": true,
   "toc_window_display": false
  },
  "varInspector": {
   "cols": {
    "lenName": 16,
    "lenType": 16,
    "lenVar": 40
   },
   "kernels_config": {
    "python": {
     "delete_cmd_postfix": "",
     "delete_cmd_prefix": "del ",
     "library": "var_list.py",
     "varRefreshCmd": "print(var_dic_list())"
    },
    "r": {
     "delete_cmd_postfix": ") ",
     "delete_cmd_prefix": "rm(",
     "library": "var_list.r",
     "varRefreshCmd": "cat(var_dic_list()) "
    }
   },
   "types_to_exclude": [
    "module",
    "function",
    "builtin_function_or_method",
    "instance",
    "_Feature"
   ],
   "window_display": false
  }
 },
 "nbformat": 4,
 "nbformat_minor": 5
}
